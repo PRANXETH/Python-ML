{
 "cells": [
  {
   "cell_type": "code",
   "execution_count": 1,
   "id": "2fa37044-1956-4ed8-aea0-d9e287e6fe71",
   "metadata": {},
   "outputs": [
    {
     "data": {
      "text/plain": [
       "27"
      ]
     },
     "execution_count": 1,
     "metadata": {},
     "output_type": "execute_result"
    }
   ],
   "source": [
    "a = 27\n",
    "a"
   ]
  },
  {
   "cell_type": "markdown",
   "id": "b48cd24d-6065-4530-a767-cddb814384f3",
   "metadata": {
    "scrolled": true
   },
   "source": [
    "##### type(a)"
   ]
  },
  {
   "cell_type": "code",
   "execution_count": 3,
   "id": "a2d216ec-c447-42e9-97dd-af9d54b44aaf",
   "metadata": {},
   "outputs": [
    {
     "data": {
      "text/plain": [
       "'98.113'"
      ]
     },
     "execution_count": 3,
     "metadata": {},
     "output_type": "execute_result"
    }
   ],
   "source": [
    "b = \"98.113\"\n",
    "b"
   ]
  },
  {
   "cell_type": "code",
   "execution_count": 4,
   "id": "16e55bfb-d6ca-42fe-ab1a-af8b24d0312c",
   "metadata": {},
   "outputs": [
    {
     "data": {
      "text/plain": [
       "str"
      ]
     },
     "execution_count": 4,
     "metadata": {},
     "output_type": "execute_result"
    }
   ],
   "source": [
    "type(b)\n"
   ]
  },
  {
   "cell_type": "code",
   "execution_count": 5,
   "id": "aa648848-dac7-49ec-b0ae-4762901799b8",
   "metadata": {},
   "outputs": [
    {
     "data": {
      "text/plain": [
       "909.222"
      ]
     },
     "execution_count": 5,
     "metadata": {},
     "output_type": "execute_result"
    }
   ],
   "source": [
    "c = 0909.222\n",
    "c"
   ]
  },
  {
   "cell_type": "code",
   "execution_count": 6,
   "id": "2ff29fb1-d5a2-490d-a1bd-325b0d016ce9",
   "metadata": {},
   "outputs": [
    {
     "data": {
      "text/plain": [
       "float"
      ]
     },
     "execution_count": 6,
     "metadata": {},
     "output_type": "execute_result"
    }
   ],
   "source": [
    "type(c)\n"
   ]
  },
  {
   "cell_type": "code",
   "execution_count": 48,
   "id": "bdc3709e-22b9-4a92-ba09-0a58618889e9",
   "metadata": {},
   "outputs": [
    {
     "data": {
      "text/plain": [
       "bool"
      ]
     },
     "execution_count": 48,
     "metadata": {},
     "output_type": "execute_result"
    }
   ],
   "source": [
    "d = a<b\n",
    "d\n",
    "type(d)"
   ]
  },
  {
   "cell_type": "code",
   "execution_count": 9,
   "id": "30822662-1a0e-4254-9a6d-2ab651c41f81",
   "metadata": {},
   "outputs": [],
   "source": [
    "####Operators in python"
   ]
  },
  {
   "cell_type": "code",
   "execution_count": 10,
   "id": "dc0df57d-5241-4fef-9896-cc2a409c1aba",
   "metadata": {},
   "outputs": [],
   "source": [
    "#addition +\n",
    "#Subtraction -\n",
    "#multiply *\n",
    "#Division /\n",
    "\n",
    "#remainder %\n",
    "#Power **\n",
    "#// floor division\n"
   ]
  },
  {
   "cell_type": "code",
   "execution_count": 18,
   "id": "bc45ed27-839c-474b-b2c3-6ecbb0c2f3e7",
   "metadata": {},
   "outputs": [
    {
     "data": {
      "text/plain": [
       "int"
      ]
     },
     "execution_count": 18,
     "metadata": {},
     "output_type": "execute_result"
    }
   ],
   "source": [
    "a = 10\n",
    "b = 20\n",
    "c = a+b\n",
    "c\n",
    "type(c)"
   ]
  },
  {
   "cell_type": "code",
   "execution_count": 22,
   "id": "31244955-cdad-41f8-a909-e81ca78580ed",
   "metadata": {},
   "outputs": [
    {
     "data": {
      "text/plain": [
       "280"
      ]
     },
     "execution_count": 22,
     "metadata": {},
     "output_type": "execute_result"
    }
   ],
   "source": [
    "a = 10\n",
    "b = 20\n",
    "c = a+b\n",
    "d = a*c-b\n",
    "d"
   ]
  },
  {
   "cell_type": "code",
   "execution_count": 25,
   "id": "b90d76a1-e827-40df-b843-d692aa5b145c",
   "metadata": {},
   "outputs": [
    {
     "data": {
      "text/plain": [
       "27000"
      ]
     },
     "execution_count": 25,
     "metadata": {},
     "output_type": "execute_result"
    }
   ],
   "source": [
    "a = 10\n",
    "b = 20\n",
    "c = a+b\n",
    "d = a*c-b\n",
    "e = c**3\n",
    "e\n"
   ]
  },
  {
   "cell_type": "code",
   "execution_count": 27,
   "id": "3cf66c62-9e7f-45e0-a8a5-8ac615dfe9f8",
   "metadata": {},
   "outputs": [
    {
     "data": {
      "text/plain": [
       "110"
      ]
     },
     "execution_count": 27,
     "metadata": {},
     "output_type": "execute_result"
    }
   ],
   "source": [
    "a = 10\n",
    "b = 20\n",
    "c = a+b\n",
    "d = a*c-b\n",
    "e = c**3\n",
    "f = a**2-10+b\n",
    "f"
   ]
  },
  {
   "cell_type": "code",
   "execution_count": 32,
   "id": "90d23dd0-3cb1-4d46-89e1-ecb639a67110",
   "metadata": {},
   "outputs": [
    {
     "data": {
      "text/plain": [
       "14.0"
      ]
     },
     "execution_count": 32,
     "metadata": {},
     "output_type": "execute_result"
    }
   ],
   "source": [
    "a = 10\n",
    "b = 20\n",
    "c = a+b\n",
    "d = a*c-b\n",
    "e = c**3\n",
    "f = a**2-10+b\n",
    "g = d/b\n",
    "g"
   ]
  },
  {
   "cell_type": "code",
   "execution_count": 34,
   "id": "9224dcb6-34b8-4fcc-8501-1bfea9cead24",
   "metadata": {},
   "outputs": [
    {
     "data": {
      "text/plain": [
       "float"
      ]
     },
     "execution_count": 34,
     "metadata": {},
     "output_type": "execute_result"
    }
   ],
   "source": [
    "a = 10\n",
    "b = 20.846\n",
    "c = a+b\n",
    "d = a*c-b\n",
    "e = c**3\n",
    "f = a**2-10+b\n",
    "g = d/b\n",
    "type(f)"
   ]
  },
  {
   "cell_type": "code",
   "execution_count": 36,
   "id": "8b6631ff-b143-4ca8-88f7-eec301ee2c82",
   "metadata": {},
   "outputs": [
    {
     "data": {
      "text/plain": [
       "10.0"
      ]
     },
     "execution_count": 36,
     "metadata": {},
     "output_type": "execute_result"
    }
   ],
   "source": [
    "a = 10\n",
    "b = 20.846\n",
    "c = a+b\n",
    "d = a*c-b\n",
    "e = c**3\n",
    "f = a**2-10+b\n",
    "g = d/b\n",
    "k = a%b\n",
    "k"
   ]
  },
  {
   "cell_type": "code",
   "execution_count": 39,
   "id": "bc05173e-aa69-4578-b138-8564f011b9dc",
   "metadata": {},
   "outputs": [
    {
     "data": {
      "text/plain": [
       "2.0"
      ]
     },
     "execution_count": 39,
     "metadata": {},
     "output_type": "execute_result"
    }
   ],
   "source": [
    "a = 10\n",
    "b = 20.846\n",
    "c = a+b\n",
    "d = a*c-b\n",
    "e = c**3\n",
    "f = a**2-10+b\n",
    "g = d/b\n",
    "k = a%b\n",
    "m = d//f\n",
    "m"
   ]
  },
  {
   "cell_type": "code",
   "execution_count": 43,
   "id": "1c9a2a97-ddba-4b42-936d-533e27ffc7d7",
   "metadata": {},
   "outputs": [],
   "source": [
    "####True or false\n"
   ]
  },
  {
   "cell_type": "code",
   "execution_count": 42,
   "id": "f4812edc-3da5-4482-9312-1364bc1edea9",
   "metadata": {},
   "outputs": [
    {
     "data": {
      "text/plain": [
       "True"
      ]
     },
     "execution_count": 42,
     "metadata": {},
     "output_type": "execute_result"
    }
   ],
   "source": [
    "2<3"
   ]
  },
  {
   "cell_type": "code",
   "execution_count": 44,
   "id": "606a8a1e-2164-49ec-9828-632d629aa1c5",
   "metadata": {},
   "outputs": [
    {
     "data": {
      "text/plain": [
       "False"
      ]
     },
     "execution_count": 44,
     "metadata": {},
     "output_type": "execute_result"
    }
   ],
   "source": [
    "2>3"
   ]
  },
  {
   "cell_type": "code",
   "execution_count": 49,
   "id": "723a42b2-79ed-46dc-b661-0538370db397",
   "metadata": {},
   "outputs": [
    {
     "data": {
      "text/plain": [
       "True"
      ]
     },
     "execution_count": 49,
     "metadata": {},
     "output_type": "execute_result"
    }
   ],
   "source": [
    "#Comparision Operators\n",
    "\n",
    "6==6"
   ]
  },
  {
   "cell_type": "code",
   "execution_count": 50,
   "id": "914f9371-b628-4f10-95ce-25eb0c2666dd",
   "metadata": {},
   "outputs": [
    {
     "data": {
      "text/plain": [
       "False"
      ]
     },
     "execution_count": 50,
     "metadata": {},
     "output_type": "execute_result"
    }
   ],
   "source": [
    "7==1"
   ]
  },
  {
   "cell_type": "code",
   "execution_count": 51,
   "id": "12aeacb3-2f0b-42bc-8b14-ea51c01b7279",
   "metadata": {},
   "outputs": [
    {
     "data": {
      "text/plain": [
       "True"
      ]
     },
     "execution_count": 51,
     "metadata": {},
     "output_type": "execute_result"
    }
   ],
   "source": [
    "7!=1"
   ]
  },
  {
   "cell_type": "code",
   "execution_count": 52,
   "id": "ac786678-0d49-4df1-8151-8f1942677a23",
   "metadata": {},
   "outputs": [
    {
     "data": {
      "text/plain": [
       "False"
      ]
     },
     "execution_count": 52,
     "metadata": {},
     "output_type": "execute_result"
    }
   ],
   "source": [
    "7!=7"
   ]
  },
  {
   "cell_type": "code",
   "execution_count": 53,
   "id": "10d34a3c-3fd8-410a-9e9c-e31e825a2ccc",
   "metadata": {},
   "outputs": [],
   "source": [
    "#Logical Operators\n",
    "#And\n",
    "#or\n",
    "#Not"
   ]
  },
  {
   "cell_type": "code",
   "execution_count": 57,
   "id": "f517b019-a2e2-4307-bc65-b4d101efdc07",
   "metadata": {},
   "outputs": [
    {
     "data": {
      "text/plain": [
       "False"
      ]
     },
     "execution_count": 57,
     "metadata": {},
     "output_type": "execute_result"
    }
   ],
   "source": [
    "(a>20.846)and(a>b) #And operators"
   ]
  },
  {
   "cell_type": "code",
   "execution_count": 60,
   "id": "ac6377c1-80fd-47dc-85a5-6485a455c6a3",
   "metadata": {},
   "outputs": [
    {
     "data": {
      "text/plain": [
       "True"
      ]
     },
     "execution_count": 60,
     "metadata": {},
     "output_type": "execute_result"
    }
   ],
   "source": [
    "(b>a)and(c<e)"
   ]
  },
  {
   "cell_type": "code",
   "execution_count": 61,
   "id": "c662d353-9b6c-43da-861c-688564c18820",
   "metadata": {
    "collapsed": true,
    "jupyter": {
     "outputs_hidden": true,
     "source_hidden": true
    },
    "scrolled": true
   },
   "outputs": [
    {
     "data": {
      "text/plain": [
       "True"
      ]
     },
     "execution_count": 61,
     "metadata": {},
     "output_type": "execute_result"
    }
   ],
   "source": [
    "(10>20)or(200<400) #Or Operators"
   ]
  },
  {
   "cell_type": "code",
   "execution_count": 62,
   "id": "dd5e60eb-2b08-440a-8dbf-4a67617bd56d",
   "metadata": {},
   "outputs": [
    {
     "data": {
      "text/plain": [
       "False"
      ]
     },
     "execution_count": 62,
     "metadata": {},
     "output_type": "execute_result"
    }
   ],
   "source": [
    "(1>2)or(2>3)"
   ]
  },
  {
   "cell_type": "code",
   "execution_count": 65,
   "id": "93e9bf2b-5dd2-48da-a395-b597f2dc875e",
   "metadata": {},
   "outputs": [],
   "source": [
    "#Assignment 2(Rank System Using Logical Operators)"
   ]
  },
  {
   "cell_type": "code",
   "execution_count": 69,
   "id": "29ec7f93-38d6-419f-b3fc-75769534108b",
   "metadata": {},
   "outputs": [
    {
     "name": "stdin",
     "output_type": "stream",
     "text": [
      "Enter Your GPA:  6\n"
     ]
    },
    {
     "name": "stdout",
     "output_type": "stream",
     "text": [
      "Your Grade is C\n"
     ]
    }
   ],
   "source": [
    "x = float(input(\"Enter Your GPA: \"))\n",
    "if 9.0 <= x <= 10.0:\n",
    "    print(\"Your Grade Is A+\")\n",
    "elif 8.0 <= x <= 8.9:\n",
    "    print(\"Your Grade is A\")\n",
    "elif 7.0 <= x <= 7.9:\n",
    "    print(\"Your Grade is B\")\n",
    "elif 6.0 <= x <= 6.9:\n",
    "    print(\"Your Grade is C\")\n",
    "else:\n",
    "    print(\"Insufficient GPA For Grading\")\n"
   ]
  },
  {
   "cell_type": "code",
   "execution_count": 34,
   "id": "c341caf5-5a64-4905-ba07-0a71729dc585",
   "metadata": {},
   "outputs": [
    {
     "data": {
      "text/plain": [
       "5"
      ]
     },
     "execution_count": 34,
     "metadata": {},
     "output_type": "execute_result"
    }
   ],
   "source": [
    "a = [ 1,2,3,4,5 ]\n",
    "a[-1]\n",
    "#positive index value for Left to Right\n",
    "#Negitive index value for right to left"
   ]
  },
  {
   "cell_type": "code",
   "execution_count": 30,
   "id": "da635160-c25f-466b-b38a-420b35eca784",
   "metadata": {},
   "outputs": [
    {
     "data": {
      "text/plain": [
       "[True, 120]"
      ]
     },
     "execution_count": 30,
     "metadata": {},
     "output_type": "execute_result"
    }
   ],
   "source": [
    "c = ['data',True,80.34,120,'Hyderabad',45,90,16,False]\n",
    "c[1:4:2]\n",
    "#Start:End:Step"
   ]
  },
  {
   "cell_type": "code",
   "execution_count": 45,
   "id": "41517b6b-ba88-4ce4-b969-e5003dec82bd",
   "metadata": {},
   "outputs": [],
   "source": [
    "#list methods\n",
    "#1.Append\n",
    "#2."
   ]
  },
  {
   "cell_type": "code",
   "execution_count": 48,
   "id": "fa551389-5c60-4b6d-9a04-a27687b8dc22",
   "metadata": {
    "scrolled": true
   },
   "outputs": [
    {
     "name": "stdin",
     "output_type": "stream",
     "text": [
      "Enter Your Name:  d\n"
     ]
    },
    {
     "name": "stdout",
     "output_type": "stream",
     "text": [
      ":(\n"
     ]
    }
   ],
   "source": [
    "x = input(\"Enter Your Name: \")\n",
    "if x == \"Leo\":\n",
    "    print(\"Bloody Sweet!!\")\n",
    "\n",
    "else:\n",
    "    print(\":(\")"
   ]
  },
  {
   "cell_type": "code",
   "execution_count": 60,
   "id": "b3192701-7399-4010-afbb-d299393ce8bc",
   "metadata": {},
   "outputs": [
    {
     "name": "stdin",
     "output_type": "stream",
     "text": [
      "Enter Your Issue:  1\n"
     ]
    },
    {
     "name": "stdout",
     "output_type": "stream",
     "text": [
      "1.Handle Bar Noice\n",
      "2.Engine Noice\n",
      "3.Brake Noice\n",
      "4.Suspension Noice\n"
     ]
    }
   ],
   "source": [
    "x = (int(input(\"Enter Your Issue: \")))\n",
    "print(\"1.Handle Bar Noice\")\n",
    "print(\"2.Engine Noice\")\n",
    "print(\"3.Brake Noice\")\n",
    "print(\"4.Suspension Noice\")\n"
   ]
  },
  {
   "cell_type": "code",
   "execution_count": 5,
   "id": "fcf01bfc-91bc-4131-9116-f21afaac6387",
   "metadata": {},
   "outputs": [
    {
     "name": "stdout",
     "output_type": "stream",
     "text": [
      "1. Handle Bar Noise\n",
      "2. Engine Noise\n",
      "3. Brake Noise\n",
      "4. Suspension Noise\n"
     ]
    },
    {
     "name": "stdin",
     "output_type": "stream",
     "text": [
      "Enter Your Issue:  1\n"
     ]
    }
   ],
   "source": [
    "print(\"1. Handle Bar Noise\")\n",
    "print(\"2. Engine Noise\")\n",
    "print(\"3. Brake Noise\")\n",
    "print(\"4. Suspension Noise\")\n",
    "x = int(input(\"Enter Your Issue: \"))\n"
   ]
  },
  {
   "cell_type": "code",
   "execution_count": 13,
   "id": "1a9af016-ae38-4895-afb5-21900eeee9b5",
   "metadata": {},
   "outputs": [
    {
     "data": {
      "text/plain": [
       "[12, 3, 45, 6, 77, 90]"
      ]
     },
     "execution_count": 13,
     "metadata": {},
     "output_type": "execute_result"
    }
   ],
   "source": [
    "h = [12,3,45,6,77,90]\n",
    "h"
   ]
  },
  {
   "cell_type": "code",
   "execution_count": 15,
   "id": "9c8110da-63ab-4771-9508-d1717404df0b",
   "metadata": {},
   "outputs": [
    {
     "data": {
      "text/plain": [
       "1"
      ]
     },
     "execution_count": 15,
     "metadata": {},
     "output_type": "execute_result"
    }
   ],
   "source": [
    "h.count(12)"
   ]
  },
  {
   "cell_type": "code",
   "execution_count": 17,
   "id": "87e785d1-30b0-4a30-9a5a-2eba3e5a0cca",
   "metadata": {},
   "outputs": [
    {
     "data": {
      "text/plain": [
       "0"
      ]
     },
     "execution_count": 17,
     "metadata": {},
     "output_type": "execute_result"
    }
   ],
   "source": [
    "h.index(12)"
   ]
  },
  {
   "cell_type": "code",
   "execution_count": null,
   "id": "d8f86115-2c12-402c-ad2f-15dfafb6db5f",
   "metadata": {},
   "outputs": [],
   "source": []
  }
 ],
 "metadata": {
  "kernelspec": {
   "display_name": "Python [conda env:base] *",
   "language": "python",
   "name": "conda-base-py"
  },
  "language_info": {
   "codemirror_mode": {
    "name": "ipython",
    "version": 3
   },
   "file_extension": ".py",
   "mimetype": "text/x-python",
   "name": "python",
   "nbconvert_exporter": "python",
   "pygments_lexer": "ipython3",
   "version": "3.12.7"
  }
 },
 "nbformat": 4,
 "nbformat_minor": 5
}

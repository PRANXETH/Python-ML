{
 "cells": [
  {
   "cell_type": "code",
   "execution_count": 43,
   "id": "d365107f-a062-4053-b04f-fcb774e5c7fc",
   "metadata": {},
   "outputs": [
    {
     "name": "stdout",
     "output_type": "stream",
     "text": [
      "[[10.8827743   7.55981343  9.77382403  8.88559861]\n",
      " [ 4.56021212  8.68405575 13.09154734 11.35565368]\n",
      " [11.26113173  7.59029609 12.48001842 11.89220335]\n",
      " [ 8.82194072 11.95096327  7.37492134 11.15483838]\n",
      " [10.451889    9.28872898 11.10827176  8.4851348 ]\n",
      " [10.20441897 10.04282405 11.09761128  5.2235848 ]\n",
      " [11.69830795 11.67721095 11.64110022  9.31240155]]\n"
     ]
    }
   ],
   "source": [
    "import numpy as np\n",
    "matrix = np.random.normal(10, 2, (7, 4))\n",
    "print(matrix)"
   ]
  },
  {
   "cell_type": "code",
   "execution_count": 9,
   "id": "343b6c9e-fe6a-4c85-b04d-0e7fc69a9a64",
   "metadata": {},
   "outputs": [],
   "source": [
    "import numpy as np\n",
    "tenth_std=np.random.randint(15,18,500)"
   ]
  },
  {
   "cell_type": "code",
   "execution_count": 21,
   "id": "a13907d1-9e94-4ab8-b2f4-e5452a697bca",
   "metadata": {},
   "outputs": [
    {
     "name": "stdout",
     "output_type": "stream",
     "text": [
      "[[11.18079149 15.09214636  9.42936338  8.71190124]\n",
      " [12.3561623  10.2627665  11.54209585 10.66070997]\n",
      " [ 7.41089504  7.83847012 10.65553492  9.08835663]\n",
      " [10.61299223  7.042979    6.58976569  9.79975783]\n",
      " [ 7.74943053  9.68079044 11.75782062 11.98220708]\n",
      " [10.72139121 10.53141727  9.59677687 13.55802064]\n",
      " [ 8.02328496  8.82455016  6.77447198 10.76147563]]\n"
     ]
    }
   ],
   "source": [
    "import numpy as np\n",
    "tenth_std = np.random.randint(15, 18, 500)\n",
    "stud_2nd = [18, 19, 20, 20, 20, 19, 18, 18, 18, 20, 20]\n",
    "normal_distribution_matrix = np.random.normal(10, 2, (7, 4))\n",
    "print(normal_distribution_matrix)"
   ]
  },
  {
   "cell_type": "code",
   "execution_count": 25,
   "id": "4922ace8-823d-4b38-a142-a9bf30e0c922",
   "metadata": {},
   "outputs": [
    {
     "data": {
      "text/plain": [
       "[30, 20, 5, 6, 7]"
      ]
     },
     "execution_count": 25,
     "metadata": {},
     "output_type": "execute_result"
    }
   ],
   "source": [
    "h=[30,20,5,6,7]\n",
    "h"
   ]
  },
  {
   "cell_type": "code",
   "execution_count": 39,
   "id": "8c8ac0da-5999-4ba0-810e-4b3430737718",
   "metadata": {},
   "outputs": [
    {
     "data": {
      "text/plain": [
       "(36, 49, 64, 9, 16, 25, 1, 4, 0)"
      ]
     },
     "execution_count": 39,
     "metadata": {},
     "output_type": "execute_result"
    }
   ],
   "source": [
    "s=(6,7,8,3,4,5,1,2,0)\n",
    "squares=tuple(a**2 for a in s)\n",
    "squares"
   ]
  },
  {
   "cell_type": "code",
   "execution_count": 51,
   "id": "ea28b886-3d7f-4596-a6d4-f0535eaa9cc3",
   "metadata": {},
   "outputs": [
    {
     "name": "stdout",
     "output_type": "stream",
     "text": [
      "[(True, True, True, True, True, True, False, True, False)]\n"
     ]
    }
   ],
   "source": [
    "s=(6,7,8,3,4,5,1,2,0)\n",
    "greaterthan2 = tuple(a>=2 for a in s)\n",
    "k=[]\n",
    "k.append(greaterthan2)\n",
    "print(k)"
   ]
  },
  {
   "cell_type": "code",
   "execution_count": 55,
   "id": "fcb762dc-a40e-4b81-a145-40132fcdd126",
   "metadata": {},
   "outputs": [
    {
     "data": {
      "text/plain": [
       "[6, 7, 8, 3, 4, 5]"
      ]
     },
     "execution_count": 55,
     "metadata": {},
     "output_type": "execute_result"
    }
   ],
   "source": [
    "s=(6,7,8,3,4,5,1,2,0)\n",
    "m=[]\n",
    "for i in s:\n",
    "    if i>2\n",
    "        m.append(i)\n",
    "\n",
    "m"
   ]
  },
  {
   "cell_type": "code",
   "execution_count": 85,
   "id": "53a869b8-ff3d-4491-ae48-05a5595569e5",
   "metadata": {},
   "outputs": [
    {
     "data": {
      "text/plain": [
       "[60, 70, 80, 90, 100]"
      ]
     },
     "execution_count": 85,
     "metadata": {},
     "output_type": "execute_result"
    }
   ],
   "source": [
    "leo = np.array([20,30,40,50,60,70,80,90,100])\n",
    "BOX = []\n",
    "for v in leo:\n",
    "    if v>50:\n",
    "        BOX.append(v)\n",
    "\n",
    "BOX"
   ]
  },
  {
   "cell_type": "code",
   "execution_count": 91,
   "id": "0bb25b6f-d4e4-4226-af53-085ec3b4329f",
   "metadata": {},
   "outputs": [],
   "source": []
  }
 ],
 "metadata": {
  "kernelspec": {
   "display_name": "Python [conda env:base] *",
   "language": "python",
   "name": "conda-base-py"
  },
  "language_info": {
   "codemirror_mode": {
    "name": "ipython",
    "version": 3
   },
   "file_extension": ".py",
   "mimetype": "text/x-python",
   "name": "python",
   "nbconvert_exporter": "python",
   "pygments_lexer": "ipython3",
   "version": "3.12.7"
  }
 },
 "nbformat": 4,
 "nbformat_minor": 5
}

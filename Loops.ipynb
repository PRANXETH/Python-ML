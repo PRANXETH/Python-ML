{
 "cells": [
  {
   "cell_type": "code",
   "execution_count": null,
   "id": "90b66ba8-bb82-4f7b-b43b-659dcb13e742",
   "metadata": {},
   "outputs": [],
   "source": [
    "x=100\n",
    "while x<600:\n",
    "    print(\"Yes\")\n",
    "    x=x-100"
   ]
  },
  {
   "cell_type": "code",
   "execution_count": 1,
   "id": "f90483bd-110c-4ef4-97fc-7d9a7d3da01f",
   "metadata": {},
   "outputs": [
    {
     "data": {
      "text/plain": [
       "[40, 50, 60, 70, 80, 40, 50, 60, 70, 80]"
      ]
     },
     "execution_count": 1,
     "metadata": {},
     "output_type": "execute_result"
    }
   ],
   "source": [
    "dollars=[40,50,60,70,80]\n",
    "dollars*2"
   ]
  },
  {
   "cell_type": "code",
   "execution_count": 3,
   "id": "fcabc181-8a16-403a-a06d-1afffb3644fd",
   "metadata": {},
   "outputs": [
    {
     "name": "stdout",
     "output_type": "stream",
     "text": [
      "40\n",
      "50\n",
      "60\n",
      "70\n",
      "80\n"
     ]
    }
   ],
   "source": [
    "for i in dollars:\n",
    "    print(i)"
   ]
  },
  {
   "cell_type": "code",
   "execution_count": 5,
   "id": "091cdba3-df17-4ab6-9370-1623bbb8f8e0",
   "metadata": {},
   "outputs": [
    {
     "name": "stdout",
     "output_type": "stream",
     "text": [
      "80\n",
      "100\n",
      "120\n",
      "140\n",
      "160\n"
     ]
    }
   ],
   "source": [
    "for i in dollars:\n",
    "    print(i*2)"
   ]
  },
  {
   "cell_type": "code",
   "execution_count": 7,
   "id": "bd1c8f0c-adca-438e-adbe-fd8a0fea38de",
   "metadata": {},
   "outputs": [
    {
     "name": "stdout",
     "output_type": "stream",
     "text": [
      "3400\n",
      "4250\n",
      "5100\n",
      "5950\n",
      "6800\n"
     ]
    }
   ],
   "source": [
    "for i in dollars:\n",
    "    print(i*85)"
   ]
  },
  {
   "cell_type": "code",
   "execution_count": 11,
   "id": "bcf73e8e-ba6a-4e39-b963-375924f4c6ad",
   "metadata": {},
   "outputs": [
    {
     "data": {
      "text/plain": [
       "[3400, 4250, 5100, 5950, 6800]"
      ]
     },
     "execution_count": 11,
     "metadata": {},
     "output_type": "execute_result"
    }
   ],
   "source": [
    "rupees=[3400,4250,5100,5950,6800]\n",
    "rupees"
   ]
  },
  {
   "cell_type": "code",
   "execution_count": 13,
   "id": "8f462450-970b-491c-9c16-0ef70f7d0cf6",
   "metadata": {},
   "outputs": [
    {
     "name": "stdout",
     "output_type": "stream",
     "text": [
      "3400\n",
      "4250\n",
      "5100\n",
      "5950\n",
      "6800\n"
     ]
    }
   ],
   "source": [
    "for i in rupees:\n",
    "    print(i)"
   ]
  },
  {
   "cell_type": "code",
   "execution_count": 15,
   "id": "de0501e7-bdb8-4fe7-bdae-6b903e730f09",
   "metadata": {},
   "outputs": [
    {
     "name": "stdout",
     "output_type": "stream",
     "text": [
      "40.0\n",
      "50.0\n",
      "60.0\n",
      "70.0\n",
      "80.0\n"
     ]
    }
   ],
   "source": [
    "for i in rupees:\n",
    "    print(i/85)"
   ]
  },
  {
   "cell_type": "code",
   "execution_count": 27,
   "id": "df2c951d-010b-4bd9-b00c-7314648adede",
   "metadata": {},
   "outputs": [
    {
     "name": "stdout",
     "output_type": "stream",
     "text": [
      "11.8\n",
      "23.6\n",
      "35.4\n",
      "47.2\n",
      "59.0\n"
     ]
    }
   ],
   "source": [
    "Price=[10,20,30,40,50]\n",
    "Price\n",
    "\n",
    "for i in Price:\n",
    "    print(i+(i*0.18))"
   ]
  },
  {
   "cell_type": "code",
   "execution_count": 39,
   "id": "7b37155a-031f-455f-baed-136c5e248c36",
   "metadata": {},
   "outputs": [
    {
     "name": "stdout",
     "output_type": "stream",
     "text": [
      "11.8\n",
      "12.98\n",
      "14.16\n",
      "15.34\n",
      "16.52\n",
      "17.7\n",
      "18.88\n",
      "20.06\n",
      "21.24\n",
      "22.42\n",
      "23.6\n",
      "24.78\n",
      "25.96\n",
      "27.14\n",
      "28.32\n",
      "29.5\n",
      "These are the values after adding 18% GST\n"
     ]
    }
   ],
   "source": [
    "num = [10,11,12,13,14,15,16,17,18,19,20,21,22,23,24,25]\n",
    "num\n",
    "\n",
    "for i in num:\n",
    "    print(i+(i*0.18))\n",
    "    exit()\n",
    "\n",
    "print(\"These are the values after adding 18% GST\")"
   ]
  },
  {
   "cell_type": "code",
   "execution_count": 11,
   "id": "7e1640dc-c6c0-44ed-aeb8-32541b857f04",
   "metadata": {},
   "outputs": [
    {
     "name": "stdout",
     "output_type": "stream",
     "text": [
      "10\n",
      "11\n",
      "12\n",
      "13\n",
      "14\n",
      "15\n",
      "16\n",
      "17\n",
      "18\n",
      "19\n",
      "20\n",
      "21\n",
      "22\n",
      "23\n",
      "24\n",
      "25\n"
     ]
    }
   ],
   "source": [
    "num = [10,11,12,13,14,15,16,17,18,19,20,21,22,23,24,25]\n",
    "for i in num:\n",
    "    print(i*1)"
   ]
  },
  {
   "cell_type": "code",
   "execution_count": 21,
   "id": "06280bbe-6585-41df-a947-6fcdf5a1f5c1",
   "metadata": {},
   "outputs": [
    {
     "name": "stdout",
     "output_type": "stream",
     "text": [
      "Even: [10, 12, 14, 16, 18, 20, 22, 24]\n",
      "Odd: [11, 13, 15, 17, 19, 21, 23, 25]\n"
     ]
    }
   ],
   "source": [
    "num = [10, 11, 12, 13, 14, 15, 16, 17, 18, 19, 20, 21, 22, 23, 24, 25]\n",
    "j = []\n",
    "k = []\n",
    "for i in num:\n",
    "    if i % 2 == 0:\n",
    "        j.append(i)\n",
    "    else:\n",
    "        k.append(i)\n",
    "\n",
    "print(\"Even:\", j)\n",
    "print(\"Odd:\", k)\n"
   ]
  },
  {
   "cell_type": "code",
   "execution_count": 27,
   "id": "448dbb50-781d-44fc-90d8-09cab0248b0a",
   "metadata": {},
   "outputs": [],
   "source": [
    "num = [10, 11, 12, 13, 14, 15, 16, 17, 18, 19, 20, 21, 22, 23, 24, 25]\n",
    "h = []\n",
    "for i in num:\n",
    "    a = str(i)\n",
    "    b = a.replace('8', '5')\n",
    "    c = int(b)\n",
    "    h.append(c)"
   ]
  },
  {
   "cell_type": "code",
   "execution_count": null,
   "id": "be16fa9a-de6c-4d66-a7cd-7f00bbfedd15",
   "metadata": {},
   "outputs": [],
   "source": []
  }
 ],
 "metadata": {
  "kernelspec": {
   "display_name": "Python [conda env:base] *",
   "language": "python",
   "name": "conda-base-py"
  },
  "language_info": {
   "codemirror_mode": {
    "name": "ipython",
    "version": 3
   },
   "file_extension": ".py",
   "mimetype": "text/x-python",
   "name": "python",
   "nbconvert_exporter": "python",
   "pygments_lexer": "ipython3",
   "version": "3.12.7"
  }
 },
 "nbformat": 4,
 "nbformat_minor": 5
}
